{
 "cells": [
  {
   "cell_type": "markdown",
   "id": "56d07898",
   "metadata": {},
   "source": [
    "# 1. Web Scraping City information and transform into Dataframe\n",
    "# 2. Separating into two Dataframes\n",
    "# 4. Pushing to SQL Workbench"
   ]
  },
  {
   "cell_type": "code",
   "execution_count": null,
   "id": "9d18acee",
   "metadata": {},
   "outputs": [],
   "source": [
    "#Libraries I used\n",
    "import pandas as pd\n",
    "import requests\n",
    "from bs4 import BeautifulSoup\n",
    "from lat_lon_parser import parse\n",
    "from sqlalchemy import create_engine \n",
    "import mysql.connector"
   ]
  },
  {
   "cell_type": "markdown",
   "id": "02151ca1",
   "metadata": {},
   "source": [
    "## 1. Web Scraping - Manual Approch"
   ]
  },
  {
   "cell_type": "markdown",
   "id": "64fd9402",
   "metadata": {},
   "source": [
    "### Berlin"
   ]
  },
  {
   "cell_type": "code",
   "execution_count": null,
   "id": "26bad6f0",
   "metadata": {},
   "outputs": [],
   "source": [
    "url = \"https://en.wikipedia.org/wiki/Berlin\" #the URL of the webpage I am getting the info from\n",
    "\n",
    "response = requests.get(url)\n",
    "\n",
    "soup_berlin = BeautifulSoup(response.content, 'html.parser') #extracting the raw html text\n",
    "\n",
    "country_berlin = soup_berlin.find('td', class_='infobox-data').get_text(strip=True) #find the table and strip the text\n",
    "\n",
    "lng_berlin = soup_berlin.find('span', class_='longitude').get_text(strip=True)\n",
    "ltd_berlin = soup_berlin.find('span', class_='latitude').get_text(strip=True)"
   ]
  },
  {
   "cell_type": "markdown",
   "id": "e1767462",
   "metadata": {},
   "source": [
    "### Hamburg"
   ]
  },
  {
   "cell_type": "code",
   "execution_count": 3,
   "id": "59745ebd",
   "metadata": {},
   "outputs": [],
   "source": [
    "url = \"https://en.wikipedia.org/wiki/Hamburg\"\n",
    "\n",
    "response = requests.get(url)\n",
    "\n",
    "soup_hamburg = BeautifulSoup(response.content, 'html.parser')\n",
    "\n",
    "country_hamburg = soup_hamburg.find('td', class_='infobox-data').get_text(strip=True)\n",
    "\n",
    "lng_hamburg = soup_hamburg.find('span', class_='longitude').get_text(strip=True)\n",
    "ltd_hamburg = soup_hamburg.find('span', class_='latitude').get_text(strip=True)"
   ]
  },
  {
   "cell_type": "markdown",
   "id": "0a9a7a8b",
   "metadata": {},
   "source": [
    "### Munich"
   ]
  },
  {
   "cell_type": "code",
   "execution_count": 4,
   "id": "4d58793a",
   "metadata": {},
   "outputs": [],
   "source": [
    "url = \"https://en.wikipedia.org/wiki/Munich\"\n",
    "\n",
    "response = requests.get(url)\n",
    "\n",
    "soup_munich = BeautifulSoup(response.content, 'html.parser')\n",
    "\n",
    "country_munich = soup_munich.find('td', class_='infobox-data').get_text(strip=True)\n",
    "\n",
    "lng_munich = soup_munich.find('span', class_='longitude').get_text(strip=True)\n",
    "ltd_munich = soup_munich.find('span', class_='latitude').get_text(strip=True)"
   ]
  },
  {
   "cell_type": "markdown",
   "id": "40d186fa",
   "metadata": {},
   "source": [
    "## 1. Web Scraping: Function to replace the manual steps above"
   ]
  },
  {
   "cell_type": "code",
   "execution_count": 5,
   "id": "01e7939c",
   "metadata": {},
   "outputs": [],
   "source": [
    "#Function to replace steps above and to be able to use it for any other city\n",
    "def cities_dataframe(cities):\n",
    "  cities_data = []\n",
    "\n",
    "  for city in cities:\n",
    "    city_data = {}\n",
    "\n",
    "    # city\n",
    "    city_data[\"City\"] = city\n",
    "\n",
    "    # create the soup\n",
    "    url = f\"https://www.wikipedia.org/wiki/{city}\"\n",
    "    response = requests.get(url)\n",
    "    city_soup = BeautifulSoup(response.content, 'html.parser')\n",
    "\n",
    "    # country\n",
    "    city_data[\"Country\"] = city_soup.find(class_=\"infobox-data\").get_text()\n",
    "\n",
    "    # population\n",
    "    city_population = city_soup.find(string=\"Population\").find_next(\"td\").get_text()\n",
    "    city_population_clean = int(city_population.replace(\",\", \"\"))\n",
    "    city_data[\"Population\"] = city_population_clean\n",
    "\n",
    "    # data retrieved\n",
    "    city_data[\"Year_Data_Retrieved\"] = city_soup.find(string=\"Population\").find_next().get_text()[2:6]\n",
    "\n",
    "    # latitude and longitude\n",
    "    city_data[\"Latitude\"] = city_soup.find(class_=\"latitude\").get_text()\n",
    "    city_data[\"Longitude\"] = city_soup.find(class_=\"longitude\").get_text()\n",
    "    city_data[\"Latitude\"] = parse(city_data[\"Latitude\"])\n",
    "    city_data[\"Longitude\"] = parse(city_data[\"Longitude\"])\n",
    "\n",
    "    # append this city's data to the cities list\n",
    "    cities_data.append(city_data)\n",
    "\n",
    "  return pd.DataFrame(cities_data)"
   ]
  },
  {
   "cell_type": "markdown",
   "id": "d7774da5",
   "metadata": {},
   "source": [
    "### Call the function with Cities names"
   ]
  },
  {
   "cell_type": "code",
   "execution_count": 6,
   "id": "30f96e0b",
   "metadata": {},
   "outputs": [
    {
     "data": {
      "text/html": [
       "<div>\n",
       "<style scoped>\n",
       "    .dataframe tbody tr th:only-of-type {\n",
       "        vertical-align: middle;\n",
       "    }\n",
       "\n",
       "    .dataframe tbody tr th {\n",
       "        vertical-align: top;\n",
       "    }\n",
       "\n",
       "    .dataframe thead th {\n",
       "        text-align: right;\n",
       "    }\n",
       "</style>\n",
       "<table border=\"1\" class=\"dataframe\">\n",
       "  <thead>\n",
       "    <tr style=\"text-align: right;\">\n",
       "      <th></th>\n",
       "      <th>City</th>\n",
       "      <th>Country</th>\n",
       "      <th>Population</th>\n",
       "      <th>Year_Data_Retrieved</th>\n",
       "      <th>Latitude</th>\n",
       "      <th>Longitude</th>\n",
       "    </tr>\n",
       "  </thead>\n",
       "  <tbody>\n",
       "    <tr>\n",
       "      <th>0</th>\n",
       "      <td>Berlin</td>\n",
       "      <td>Germany</td>\n",
       "      <td>3596999</td>\n",
       "      <td>2022</td>\n",
       "      <td>52.5200</td>\n",
       "      <td>13.405</td>\n",
       "    </tr>\n",
       "    <tr>\n",
       "      <th>1</th>\n",
       "      <td>Hamburg</td>\n",
       "      <td>Germany</td>\n",
       "      <td>1964021</td>\n",
       "      <td>2023</td>\n",
       "      <td>53.5500</td>\n",
       "      <td>10.000</td>\n",
       "    </tr>\n",
       "    <tr>\n",
       "      <th>2</th>\n",
       "      <td>Munich</td>\n",
       "      <td>Germany</td>\n",
       "      <td>1510378</td>\n",
       "      <td>2023</td>\n",
       "      <td>48.1375</td>\n",
       "      <td>11.575</td>\n",
       "    </tr>\n",
       "  </tbody>\n",
       "</table>\n",
       "</div>"
      ],
      "text/plain": [
       "      City  Country  Population Year_Data_Retrieved  Latitude  Longitude\n",
       "0   Berlin  Germany     3596999                2022   52.5200     13.405\n",
       "1  Hamburg  Germany     1964021                2023   53.5500     10.000\n",
       "2   Munich  Germany     1510378                2023   48.1375     11.575"
      ]
     },
     "execution_count": 6,
     "metadata": {},
     "output_type": "execute_result"
    }
   ],
   "source": [
    "# call the function\n",
    "list_of_cities = [\"Berlin\", \"Hamburg\", \"Munich\"]\n",
    "\n",
    "cities_df = cities_dataframe(list_of_cities)\n",
    "cities_df"
   ]
  },
  {
   "cell_type": "markdown",
   "id": "7040f531",
   "metadata": {},
   "source": [
    "## 2. Seperating DATAFRAME into two tables"
   ]
  },
  {
   "cell_type": "code",
   "execution_count": 7,
   "id": "c8e870d4",
   "metadata": {},
   "outputs": [
    {
     "name": "stdout",
     "output_type": "stream",
     "text": [
      "<class 'pandas.core.frame.DataFrame'>\n",
      "RangeIndex: 3 entries, 0 to 2\n",
      "Data columns (total 6 columns):\n",
      " #   Column               Non-Null Count  Dtype  \n",
      "---  ------               --------------  -----  \n",
      " 0   City                 3 non-null      object \n",
      " 1   Country              3 non-null      object \n",
      " 2   Population           3 non-null      int64  \n",
      " 3   Year_Data_Retrieved  3 non-null      object \n",
      " 4   Latitude             3 non-null      float64\n",
      " 5   Longitude            3 non-null      float64\n",
      "dtypes: float64(2), int64(1), object(3)\n",
      "memory usage: 276.0+ bytes\n"
     ]
    }
   ],
   "source": [
    "cities_df.info()"
   ]
  },
  {
   "cell_type": "code",
   "execution_count": 8,
   "id": "fb85629f",
   "metadata": {},
   "outputs": [
    {
     "data": {
      "text/html": [
       "<div>\n",
       "<style scoped>\n",
       "    .dataframe tbody tr th:only-of-type {\n",
       "        vertical-align: middle;\n",
       "    }\n",
       "\n",
       "    .dataframe tbody tr th {\n",
       "        vertical-align: top;\n",
       "    }\n",
       "\n",
       "    .dataframe thead th {\n",
       "        text-align: right;\n",
       "    }\n",
       "</style>\n",
       "<table border=\"1\" class=\"dataframe\">\n",
       "  <thead>\n",
       "    <tr style=\"text-align: right;\">\n",
       "      <th></th>\n",
       "      <th>City</th>\n",
       "      <th>Country</th>\n",
       "      <th>Latitude</th>\n",
       "      <th>Longitude</th>\n",
       "    </tr>\n",
       "  </thead>\n",
       "  <tbody>\n",
       "    <tr>\n",
       "      <th>0</th>\n",
       "      <td>Berlin</td>\n",
       "      <td>Germany</td>\n",
       "      <td>52.5200</td>\n",
       "      <td>13.405</td>\n",
       "    </tr>\n",
       "    <tr>\n",
       "      <th>1</th>\n",
       "      <td>Hamburg</td>\n",
       "      <td>Germany</td>\n",
       "      <td>53.5500</td>\n",
       "      <td>10.000</td>\n",
       "    </tr>\n",
       "    <tr>\n",
       "      <th>2</th>\n",
       "      <td>Munich</td>\n",
       "      <td>Germany</td>\n",
       "      <td>48.1375</td>\n",
       "      <td>11.575</td>\n",
       "    </tr>\n",
       "  </tbody>\n",
       "</table>\n",
       "</div>"
      ],
      "text/plain": [
       "      City  Country  Latitude  Longitude\n",
       "0   Berlin  Germany   52.5200     13.405\n",
       "1  Hamburg  Germany   53.5500     10.000\n",
       "2   Munich  Germany   48.1375     11.575"
      ]
     },
     "execution_count": 8,
     "metadata": {},
     "output_type": "execute_result"
    }
   ],
   "source": [
    "# Create the \"cities df\" for the relational data base\n",
    "\n",
    "cities_to_db = cities_df[[\"City\", \"Country\", \"Latitude\", \"Longitude\"]]\n",
    "cities_to_db"
   ]
  },
  {
   "cell_type": "code",
   "execution_count": 9,
   "id": "443c0b73",
   "metadata": {},
   "outputs": [
    {
     "data": {
      "text/html": [
       "<div>\n",
       "<style scoped>\n",
       "    .dataframe tbody tr th:only-of-type {\n",
       "        vertical-align: middle;\n",
       "    }\n",
       "\n",
       "    .dataframe tbody tr th {\n",
       "        vertical-align: top;\n",
       "    }\n",
       "\n",
       "    .dataframe thead th {\n",
       "        text-align: right;\n",
       "    }\n",
       "</style>\n",
       "<table border=\"1\" class=\"dataframe\">\n",
       "  <thead>\n",
       "    <tr style=\"text-align: right;\">\n",
       "      <th></th>\n",
       "      <th>Population</th>\n",
       "      <th>Year_Data_Retrieved</th>\n",
       "    </tr>\n",
       "  </thead>\n",
       "  <tbody>\n",
       "    <tr>\n",
       "      <th>0</th>\n",
       "      <td>3596999</td>\n",
       "      <td>2022</td>\n",
       "    </tr>\n",
       "    <tr>\n",
       "      <th>1</th>\n",
       "      <td>1964021</td>\n",
       "      <td>2023</td>\n",
       "    </tr>\n",
       "    <tr>\n",
       "      <th>2</th>\n",
       "      <td>1510378</td>\n",
       "      <td>2023</td>\n",
       "    </tr>\n",
       "  </tbody>\n",
       "</table>\n",
       "</div>"
      ],
      "text/plain": [
       "   Population Year_Data_Retrieved\n",
       "0     3596999                2022\n",
       "1     1964021                2023\n",
       "2     1510378                2023"
      ]
     },
     "execution_count": 9,
     "metadata": {},
     "output_type": "execute_result"
    }
   ],
   "source": [
    "# Create the \"population df\" for the relational data base\n",
    "\n",
    "population_to_db = cities_df[[\"Population\", \"Year_Data_Retrieved\"]]\n",
    "population_to_db"
   ]
  },
  {
   "cell_type": "code",
   "execution_count": 10,
   "id": "05e64f12",
   "metadata": {},
   "outputs": [
    {
     "name": "stderr",
     "output_type": "stream",
     "text": [
      "/var/folders/cn/bdqc214d4dqcr16tz7kb403w0000gn/T/ipykernel_5492/286484677.py:3: SettingWithCopyWarning: \n",
      "A value is trying to be set on a copy of a slice from a DataFrame.\n",
      "Try using .loc[row_indexer,col_indexer] = value instead\n",
      "\n",
      "See the caveats in the documentation: https://pandas.pydata.org/pandas-docs/stable/user_guide/indexing.html#returning-a-view-versus-a-copy\n",
      "  cities_to_db['Airport_Iata_Code']= airport_codes\n"
     ]
    },
    {
     "data": {
      "text/html": [
       "<div>\n",
       "<style scoped>\n",
       "    .dataframe tbody tr th:only-of-type {\n",
       "        vertical-align: middle;\n",
       "    }\n",
       "\n",
       "    .dataframe tbody tr th {\n",
       "        vertical-align: top;\n",
       "    }\n",
       "\n",
       "    .dataframe thead th {\n",
       "        text-align: right;\n",
       "    }\n",
       "</style>\n",
       "<table border=\"1\" class=\"dataframe\">\n",
       "  <thead>\n",
       "    <tr style=\"text-align: right;\">\n",
       "      <th></th>\n",
       "      <th>City</th>\n",
       "      <th>Country</th>\n",
       "      <th>Latitude</th>\n",
       "      <th>Longitude</th>\n",
       "      <th>Airport_Iata_Code</th>\n",
       "    </tr>\n",
       "  </thead>\n",
       "  <tbody>\n",
       "    <tr>\n",
       "      <th>0</th>\n",
       "      <td>Berlin</td>\n",
       "      <td>Germany</td>\n",
       "      <td>52.5200</td>\n",
       "      <td>13.405</td>\n",
       "      <td>BER</td>\n",
       "    </tr>\n",
       "    <tr>\n",
       "      <th>1</th>\n",
       "      <td>Hamburg</td>\n",
       "      <td>Germany</td>\n",
       "      <td>53.5500</td>\n",
       "      <td>10.000</td>\n",
       "      <td>HAM</td>\n",
       "    </tr>\n",
       "    <tr>\n",
       "      <th>2</th>\n",
       "      <td>Munich</td>\n",
       "      <td>Germany</td>\n",
       "      <td>48.1375</td>\n",
       "      <td>11.575</td>\n",
       "      <td>MUC</td>\n",
       "    </tr>\n",
       "  </tbody>\n",
       "</table>\n",
       "</div>"
      ],
      "text/plain": [
       "      City  Country  Latitude  Longitude Airport_Iata_Code\n",
       "0   Berlin  Germany   52.5200     13.405               BER\n",
       "1  Hamburg  Germany   53.5500     10.000               HAM\n",
       "2   Munich  Germany   48.1375     11.575               MUC"
      ]
     },
     "execution_count": 10,
     "metadata": {},
     "output_type": "execute_result"
    }
   ],
   "source": [
    "#add airport codes\n",
    "airport_codes = ['BER', 'HAM', 'MUC']\n",
    "cities_to_db['Airport_Iata_Code']= airport_codes\n",
    "cities_to_db"
   ]
  },
  {
   "cell_type": "markdown",
   "id": "5babd869",
   "metadata": {},
   "source": [
    "# 3. Pushing it into MySql Workbench"
   ]
  },
  {
   "cell_type": "markdown",
   "id": "20ad13dd",
   "metadata": {},
   "source": [
    "In the first step of this project, I pushed the info locally to mySQL Workbench and in the second step I pushed it into a database created on Google Cloud Provider (GCP). The steps are the same and only schema, host and password differs. I am sharing here only the second approch to push it directly to the cloud. "
   ]
  },
  {
   "cell_type": "code",
   "execution_count": null,
   "id": "091da508",
   "metadata": {},
   "outputs": [],
   "source": [
    "#Info for connection between mySQL Workbench and VS code\n",
    "schema = \"gans_cloud\"\n",
    "host = \"PUBLIC IP\" #host from Google cloud account (public IP)\n",
    "user = \"root\"\n",
    "password = password_GCP\n",
    "port = 3306\n",
    "\n",
    "connection_string = f'mysql+pymysql://{user}:{password}@{host}:{port}/{schema}'"
   ]
  },
  {
   "cell_type": "code",
   "execution_count": 14,
   "id": "0bacf88e",
   "metadata": {},
   "outputs": [
    {
     "data": {
      "text/plain": [
       "3"
      ]
     },
     "execution_count": 14,
     "metadata": {},
     "output_type": "execute_result"
    }
   ],
   "source": [
    "# Push the \"cities_to_db\" to the empty \"cities\" table in the MySQL data base\n",
    "\n",
    "cities_to_db.to_sql('Cities',\n",
    "                  if_exists='append',\n",
    "                  con=connection_string,\n",
    "                  index=False)"
   ]
  },
  {
   "cell_type": "markdown",
   "id": "57b8649e",
   "metadata": {},
   "source": [
    "### before pushing the populations DB into the cloud, reading back the Cities table to retrieve the foreign key (Cities_id)"
   ]
  },
  {
   "cell_type": "code",
   "execution_count": 16,
   "id": "1fd31589",
   "metadata": {},
   "outputs": [
    {
     "data": {
      "text/html": [
       "<div>\n",
       "<style scoped>\n",
       "    .dataframe tbody tr th:only-of-type {\n",
       "        vertical-align: middle;\n",
       "    }\n",
       "\n",
       "    .dataframe tbody tr th {\n",
       "        vertical-align: top;\n",
       "    }\n",
       "\n",
       "    .dataframe thead th {\n",
       "        text-align: right;\n",
       "    }\n",
       "</style>\n",
       "<table border=\"1\" class=\"dataframe\">\n",
       "  <thead>\n",
       "    <tr style=\"text-align: right;\">\n",
       "      <th></th>\n",
       "      <th>City_id</th>\n",
       "      <th>City</th>\n",
       "      <th>Country</th>\n",
       "      <th>Longitude</th>\n",
       "      <th>Latitude</th>\n",
       "      <th>Airport_Iata_code</th>\n",
       "    </tr>\n",
       "  </thead>\n",
       "  <tbody>\n",
       "    <tr>\n",
       "      <th>0</th>\n",
       "      <td>1</td>\n",
       "      <td>Berlin</td>\n",
       "      <td>Germany</td>\n",
       "      <td>13.405</td>\n",
       "      <td>52.5200</td>\n",
       "      <td>BER</td>\n",
       "    </tr>\n",
       "    <tr>\n",
       "      <th>1</th>\n",
       "      <td>2</td>\n",
       "      <td>Hamburg</td>\n",
       "      <td>Germany</td>\n",
       "      <td>10.000</td>\n",
       "      <td>53.5500</td>\n",
       "      <td>HAM</td>\n",
       "    </tr>\n",
       "    <tr>\n",
       "      <th>2</th>\n",
       "      <td>3</td>\n",
       "      <td>Munich</td>\n",
       "      <td>Germany</td>\n",
       "      <td>11.575</td>\n",
       "      <td>48.1375</td>\n",
       "      <td>MUC</td>\n",
       "    </tr>\n",
       "  </tbody>\n",
       "</table>\n",
       "</div>"
      ],
      "text/plain": [
       "   City_id     City  Country  Longitude  Latitude Airport_Iata_code\n",
       "0        1   Berlin  Germany     13.405   52.5200               BER\n",
       "1        2  Hamburg  Germany     10.000   53.5500               HAM\n",
       "2        3   Munich  Germany     11.575   48.1375               MUC"
      ]
     },
     "execution_count": 16,
     "metadata": {},
     "output_type": "execute_result"
    }
   ],
   "source": [
    "cities_from_sql = pd.read_sql(\"Cities\", con=connection_string) #reading back from sql\n",
    "cities_from_sql"
   ]
  },
  {
   "cell_type": "code",
   "execution_count": 17,
   "id": "88c92eb9",
   "metadata": {},
   "outputs": [
    {
     "name": "stderr",
     "output_type": "stream",
     "text": [
      "/var/folders/cn/bdqc214d4dqcr16tz7kb403w0000gn/T/ipykernel_5492/2823822354.py:3: SettingWithCopyWarning: \n",
      "A value is trying to be set on a copy of a slice from a DataFrame.\n",
      "Try using .loc[row_indexer,col_indexer] = value instead\n",
      "\n",
      "See the caveats in the documentation: https://pandas.pydata.org/pandas-docs/stable/user_guide/indexing.html#returning-a-view-versus-a-copy\n",
      "  population_to_db[\"City_id\"] = cities_from_sql[\"City_id\"]\n"
     ]
    },
    {
     "data": {
      "text/html": [
       "<div>\n",
       "<style scoped>\n",
       "    .dataframe tbody tr th:only-of-type {\n",
       "        vertical-align: middle;\n",
       "    }\n",
       "\n",
       "    .dataframe tbody tr th {\n",
       "        vertical-align: top;\n",
       "    }\n",
       "\n",
       "    .dataframe thead th {\n",
       "        text-align: right;\n",
       "    }\n",
       "</style>\n",
       "<table border=\"1\" class=\"dataframe\">\n",
       "  <thead>\n",
       "    <tr style=\"text-align: right;\">\n",
       "      <th></th>\n",
       "      <th>Population</th>\n",
       "      <th>Year_Data_Retrieved</th>\n",
       "      <th>City_id</th>\n",
       "    </tr>\n",
       "  </thead>\n",
       "  <tbody>\n",
       "    <tr>\n",
       "      <th>0</th>\n",
       "      <td>3596999</td>\n",
       "      <td>2022</td>\n",
       "      <td>1</td>\n",
       "    </tr>\n",
       "    <tr>\n",
       "      <th>1</th>\n",
       "      <td>1964021</td>\n",
       "      <td>2023</td>\n",
       "      <td>2</td>\n",
       "    </tr>\n",
       "    <tr>\n",
       "      <th>2</th>\n",
       "      <td>1510378</td>\n",
       "      <td>2023</td>\n",
       "      <td>3</td>\n",
       "    </tr>\n",
       "  </tbody>\n",
       "</table>\n",
       "</div>"
      ],
      "text/plain": [
       "   Population Year_Data_Retrieved  City_id\n",
       "0     3596999                2022        1\n",
       "1     1964021                2023        2\n",
       "2     1510378                2023        3"
      ]
     },
     "execution_count": 17,
     "metadata": {},
     "output_type": "execute_result"
    }
   ],
   "source": [
    "# Getting the \"City_id\" to the population df--> needed for relational database connections\n",
    "\n",
    "population_to_db[\"City_id\"] = cities_from_sql[\"City_id\"]\n",
    "population_to_db"
   ]
  },
  {
   "cell_type": "code",
   "execution_count": 18,
   "id": "fe99ee21",
   "metadata": {},
   "outputs": [
    {
     "data": {
      "text/plain": [
       "3"
      ]
     },
     "execution_count": 18,
     "metadata": {},
     "output_type": "execute_result"
    }
   ],
   "source": [
    "# Push the \"population_to_db\" to the empty \"population\" table in the MySQL data base\n",
    "\n",
    "population_to_db.to_sql('Population',\n",
    "                  if_exists='append',\n",
    "                  con=connection_string,\n",
    "                  index=False)"
   ]
  }
 ],
 "metadata": {
  "kernelspec": {
   "display_name": "venv",
   "language": "python",
   "name": "python3"
  },
  "language_info": {
   "codemirror_mode": {
    "name": "ipython",
    "version": 3
   },
   "file_extension": ".py",
   "mimetype": "text/x-python",
   "name": "python",
   "nbconvert_exporter": "python",
   "pygments_lexer": "ipython3",
   "version": "3.13.3"
  }
 },
 "nbformat": 4,
 "nbformat_minor": 5
}
