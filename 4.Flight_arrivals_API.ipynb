{
 "cells": [
  {
   "cell_type": "markdown",
   "id": "9830de6d",
   "metadata": {},
   "source": [
    "# With an API key from AeroDataBox I retrieved flight arrival data, using the Cities that were defined earlier in a database on MySQLWorkbench"
   ]
  },
  {
   "cell_type": "code",
   "execution_count": 1,
   "id": "fd9570d6",
   "metadata": {},
   "outputs": [],
   "source": [
    "#Libraries I used\n",
    "import pandas as pd\n",
    "import requests\n",
    "from bs4 import BeautifulSoup\n",
    "from lat_lon_parser import parse\n",
    "from sqlalchemy import create_engine \n",
    "import mysql.connector"
   ]
  },
  {
   "cell_type": "code",
   "execution_count": null,
   "id": "b88e879b",
   "metadata": {},
   "outputs": [],
   "source": [
    "@functions_framework.http\n",
    "def test(request):\n",
    "    schema = \"gans_cloud\" # The name of my database\n",
    "    host = \"REPLACEWITHIP\"\n",
    "    user = \"root\"\n",
    "    password = password_GCP # My MySQL password\n",
    "    port = 3306\n",
    "\n",
    "    connection_string = f'mysql+pymysql://{user}:{password}@{host}:{port}/{schema}'\n",
    "    cities_df = pd.read_sql(\"Cities\", con=connection_string)\n",
    "\n",
    "    # Get tomorrow's date and the next 12 hours from now\n",
    "    start_time = (datetime.now() + timedelta(days=1)).strftime('%Y-%m-%dT%H:%M:%S')\n",
    "    end_time = (datetime.now() + timedelta(days=1, hours=12)).strftime('%Y-%m-%dT%H:%M:%S')\n",
    "\n",
    "    all_flight_data = []\n",
    "\n",
    "     # Loop through each row in the cities_df DataFrame\n",
    "    for _, city in cities_df.iterrows():\n",
    "        icao_code = city['Airport_Iata_code']  \n",
    "\n",
    "        # Create the URL dynamically based on ICAO code and the start and end times\n",
    "        url = f\"https://aerodatabox.p.rapidapi.com/flights/airports/iata/{icao_code}/{start_time}/{end_time}\"\n",
    "\n",
    "        # Query parameters\n",
    "        querystring = {\"withLeg\":\"true\",\"direction\":\"Arrival\",\"withCancelled\":\"true\",\"withCodeshared\":\"true\",\"withCargo\":\"true\",\"withPrivate\":\"true\",\"withLocation\":\"false\"}\n",
    "\n",
    "        # Headers with the API key and host\n",
    "        headers = {\n",
    "            \"X-RapidAPI-Key\": API_flights_key,\n",
    "            \"X-RapidAPI-Host\": \"aerodatabox.p.rapidapi.com\"\n",
    "        }\n",
    "        # Send GET request to the API\n",
    "        response = requests.get(url, headers=headers, params=querystring)\n",
    "\n",
    "        if response.status_code == 200:\n",
    "            # Normalize the response JSON into a pandas DataFrame\n",
    "            flight_arrival_data = pd.json_normalize(response.json()['arrivals'])\n",
    "            \n",
    "            # Select columns and capitalize column names\n",
    "            flight_arrival_data = flight_arrival_data[['number', 'status', 'departure.airport.icao', 'departure.airport.name', 'arrival.scheduledTime.local']]\n",
    "            flight_arrival_data.columns = flight_arrival_data.columns.str.capitalize()\n",
    "\n",
    "            # Add column with IATA code\n",
    "            flight_arrival_data['Airport_Iata_Code'] = icao_code.upper()\n",
    "        \n",
    "\n",
    "            # Append the data to the all_flight_data list\n",
    "            all_flight_data.append(flight_arrival_data)\n",
    "        else:\n",
    "            print(f\"Error: {response.status_code}, {response.text}\")\n",
    "\n",
    "    # Concatenate all the flight data frames into one DataFrame\n",
    "    if all_flight_data:\n",
    "        final_flight_data = pd.concat(all_flight_data, ignore_index=True)\n",
    "    else:\n",
    "        print(\"No data to return.\")\n",
    "        return None\n",
    "\n",
    "    # Replace dots with underscores in column names\n",
    "    final_flight_data.columns = [col.replace('.', '_') for col in final_flight_data.columns]\n",
    "\n",
    "    final_flight_data['Arrival_scheduledtime_local'] = pd.to_datetime(final_flight_data['Arrival_scheduledtime_local']).dt.strftime('%Y-%m-%d %H:%M:%S')\n",
    "\n",
    "\n",
    "    # Then push to SQL\n",
    "    final_flight_data.to_sql('Flights', con=connection_string, if_exists='append', index=False)\n",
    "        \n",
    "    return \"Updated\"  "
   ]
  },
  {
   "cell_type": "code",
   "execution_count": null,
   "id": "9801ec7f",
   "metadata": {},
   "outputs": [],
   "source": [
    "# testing\n",
    "if __name__ == \"__main__\":\n",
    "    print(fetch_and_store_weather_data())"
   ]
  }
 ],
 "metadata": {
  "kernelspec": {
   "display_name": "venv",
   "language": "python",
   "name": "python3"
  },
  "language_info": {
   "codemirror_mode": {
    "name": "ipython",
    "version": 3
   },
   "file_extension": ".py",
   "mimetype": "text/x-python",
   "name": "python",
   "nbconvert_exporter": "python",
   "pygments_lexer": "ipython3",
   "version": "3.13.3"
  }
 },
 "nbformat": 4,
 "nbformat_minor": 5
}
